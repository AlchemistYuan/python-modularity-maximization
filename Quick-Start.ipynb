{
 "cells": [
  {
   "cell_type": "markdown",
   "metadata": {},
   "source": [
    "The following two examples use data in the both cited papers mentioned in the index page."
   ]
  },
  {
   "cell_type": "code",
   "execution_count": 1,
   "metadata": {
    "ExecuteTime": {
     "end_time": "2017-10-20T19:42:05.607231Z",
     "start_time": "2017-10-20T19:42:05.043135Z"
    }
   },
   "outputs": [
    {
     "data": {
      "text/plain": [
       "'2.0'"
      ]
     },
     "execution_count": 1,
     "metadata": {},
     "output_type": "execute_result"
    }
   ],
   "source": [
    "import networkx as nx\n",
    "nx.__version__"
   ]
  },
  {
   "cell_type": "code",
   "execution_count": 2,
   "metadata": {
    "ExecuteTime": {
     "end_time": "2017-10-20T19:42:06.108725Z",
     "start_time": "2017-10-20T19:42:06.094066Z"
    }
   },
   "outputs": [],
   "source": [
    "from modularity_maximization import partition\n",
    "from modularity_maximization.utils import get_modularity"
   ]
  },
  {
   "cell_type": "markdown",
   "metadata": {},
   "source": [
    "#### Undirected Network: Karate"
   ]
  },
  {
   "cell_type": "code",
   "execution_count": 3,
   "metadata": {
    "ExecuteTime": {
     "end_time": "2017-10-20T19:42:07.451259Z",
     "start_time": "2017-10-20T19:42:07.437228Z"
    }
   },
   "outputs": [],
   "source": [
    "karate = nx.Graph(nx.read_pajek(\"data/karate.net\"))"
   ]
  },
  {
   "cell_type": "code",
   "execution_count": 4,
   "metadata": {
    "ExecuteTime": {
     "end_time": "2017-10-20T19:42:08.005656Z",
     "start_time": "2017-10-20T19:42:08.000548Z"
    }
   },
   "outputs": [
    {
     "name": "stdout",
     "output_type": "stream",
     "text": [
      "Name: \n",
      "Type: Graph\n",
      "Number of nodes: 34\n",
      "Number of edges: 78\n",
      "Average degree:   4.5882\n"
     ]
    }
   ],
   "source": [
    "print(nx.info(karate))"
   ]
  },
  {
   "cell_type": "code",
   "execution_count": 5,
   "metadata": {
    "ExecuteTime": {
     "end_time": "2017-10-20T19:42:12.450270Z",
     "start_time": "2017-10-20T19:42:08.780890Z"
    }
   },
   "outputs": [],
   "source": [
    "comm_dict = partition(karate)"
   ]
  },
  {
   "cell_type": "code",
   "execution_count": 6,
   "metadata": {
    "ExecuteTime": {
     "end_time": "2017-10-20T19:42:12.465099Z",
     "start_time": "2017-10-20T19:42:12.452780Z"
    }
   },
   "outputs": [
    {
     "name": "stdout",
     "output_type": "stream",
     "text": [
      "Community 3\n",
      "5, 7, 6, 11, 17\n",
      "Community 4\n",
      "20, 22, 1, 3, 2, 4, 8, 10, 13, 12, 14, 18\n",
      "Community 5\n",
      "24, 25, 26, 28, 29, 32\n",
      "Community 6\n",
      "27, 21, 23, 9, 15, 16, 19, 31, 30, 34, 33\n"
     ]
    }
   ],
   "source": [
    "for comm in set(comm_dict.values()):\n",
    "    print(\"Community %d\"%comm)\n",
    "    print(', '.join([node for node in comm_dict if comm_dict[node] == comm]))"
   ]
  },
  {
   "cell_type": "code",
   "execution_count": 7,
   "metadata": {
    "ExecuteTime": {
     "end_time": "2017-10-20T19:42:12.521826Z",
     "start_time": "2017-10-20T19:42:12.470407Z"
    }
   },
   "outputs": [
    {
     "name": "stdout",
     "output_type": "stream",
     "text": [
      "Calculating modularity for undirected graph\n",
      "Modularity of such partition for karate is 0.419\n"
     ]
    }
   ],
   "source": [
    "print('Modularity of such partition for karate is %.3f' % get_modularity(karate, comm_dict))"
   ]
  },
  {
   "cell_type": "markdown",
   "metadata": {},
   "source": [
    "#### Jazz Network"
   ]
  },
  {
   "cell_type": "code",
   "execution_count": 8,
   "metadata": {
    "ExecuteTime": {
     "end_time": "2017-10-20T19:42:13.130107Z",
     "start_time": "2017-10-20T19:42:12.651047Z"
    }
   },
   "outputs": [],
   "source": [
    "jazz = nx.Graph(nx.read_pajek(\"data/jazz.net\"))"
   ]
  },
  {
   "cell_type": "code",
   "execution_count": 9,
   "metadata": {
    "ExecuteTime": {
     "end_time": "2017-10-20T19:42:13.186400Z",
     "start_time": "2017-10-20T19:42:13.178767Z"
    }
   },
   "outputs": [
    {
     "name": "stdout",
     "output_type": "stream",
     "text": [
      "Name: \n",
      "Type: Graph\n",
      "Number of nodes: 198\n",
      "Number of edges: 2742\n",
      "Average degree:  27.6970\n"
     ]
    }
   ],
   "source": [
    "print(nx.info(jazz))"
   ]
  },
  {
   "cell_type": "code",
   "execution_count": 10,
   "metadata": {
    "ExecuteTime": {
     "end_time": "2017-10-20T19:43:53.838832Z",
     "start_time": "2017-10-20T19:42:13.641805Z"
    }
   },
   "outputs": [],
   "source": [
    "comm_dict = partition(jazz)"
   ]
  },
  {
   "cell_type": "code",
   "execution_count": 11,
   "metadata": {
    "ExecuteTime": {
     "end_time": "2017-10-20T19:43:53.855249Z",
     "start_time": "2017-10-20T19:43:53.841200Z"
    }
   },
   "outputs": [
    {
     "name": "stdout",
     "output_type": "stream",
     "text": [
      "Community 3\n",
      "130, 127, 129, 69, 55, 54, 57, 56, 53, 52, 195, 194, 197, 67, 192, 114, 89, 113, 112, 83, 7, 103, 31, 30, 36, 34, 61, 178, 174, 186, 196, 185, 164, 165, 161, 11, 10, 12, 14, 19, 151, 150, 158, 49, 87, 142, 141, 74, 72, 71, 70, 2\n",
      "Community 4\n",
      "133, 136, 138, 25, 26, 27, 21, 28, 29, 4, 96, 124, 126, 128, 51, 90, 198, 191, 115, 88, 85, 3, 92, 102, 39, 37, 176, 173, 172, 180, 181, 184, 6, 189, 97, 169, 167, 160, 163, 13, 18, 153, 152, 155, 157, 156, 86, 45, 5, 147, 144, 145, 140, 148, 149, 77, 76, 75, 73, 79, 41, 47\n",
      "Community 5\n",
      "132, 131, 135, 134, 139, 24, 20, 22, 23, 95, 8, 120, 122, 123, 91, 58, 50, 110, 80, 81, 119, 108, 109, 100, 101, 106, 107, 104, 105, 38, 33, 32, 35, 60, 62, 63, 64, 65, 66, 68, 171, 170, 182, 187, 188, 179, 99, 98, 168, 166, 162, 15, 17, 16, 154, 159, 48, 46, 44, 42, 43, 40, 1, 78\n",
      "Community 6\n",
      "137, 93, 94, 121, 125, 59, 190, 193, 111, 82, 118, 84, 177, 175, 183, 117, 116, 9, 146, 143\n"
     ]
    }
   ],
   "source": [
    "for comm in set(comm_dict.values()):\n",
    "    print(\"Community %d\"%comm)\n",
    "    print(', '.join([node for node in comm_dict if comm_dict[node] == comm]))"
   ]
  },
  {
   "cell_type": "code",
   "execution_count": 13,
   "metadata": {
    "ExecuteTime": {
     "end_time": "2017-10-20T19:43:55.045171Z",
     "start_time": "2017-10-20T19:43:54.474334Z"
    }
   },
   "outputs": [
    {
     "name": "stdout",
     "output_type": "stream",
     "text": [
      "Calculating modularity for undirected graph\n",
      "Modularity of such partition for jazz is 0.442\n"
     ]
    }
   ],
   "source": [
    "print('Modularity of such partition for jazz is %.3f' % get_modularity(jazz, comm_dict))"
   ]
  },
  {
   "cell_type": "markdown",
   "metadata": {},
   "source": [
    "#### Directed Network: Big 10 Football Season 2005"
   ]
  },
  {
   "cell_type": "code",
   "execution_count": 14,
   "metadata": {
    "ExecuteTime": {
     "end_time": "2017-10-20T19:44:03.712081Z",
     "start_time": "2017-10-20T19:44:03.697804Z"
    }
   },
   "outputs": [],
   "source": [
    "big_10_football = nx.read_gml(\"data/big_10_football_directed.gml\")"
   ]
  },
  {
   "cell_type": "code",
   "execution_count": 15,
   "metadata": {
    "ExecuteTime": {
     "end_time": "2017-10-20T19:44:03.994048Z",
     "start_time": "2017-10-20T19:44:03.989637Z"
    }
   },
   "outputs": [
    {
     "name": "stdout",
     "output_type": "stream",
     "text": [
      "Name: \n",
      "Type: DiGraph\n",
      "Number of nodes: 11\n",
      "Number of edges: 44\n",
      "Average in degree:   4.0000\n",
      "Average out degree:   4.0000\n"
     ]
    }
   ],
   "source": [
    "print(nx.info(big_10_football))"
   ]
  },
  {
   "cell_type": "code",
   "execution_count": 16,
   "metadata": {
    "ExecuteTime": {
     "end_time": "2017-10-20T19:44:04.584316Z",
     "start_time": "2017-10-20T19:44:04.342592Z"
    }
   },
   "outputs": [],
   "source": [
    "comm_dict = partition(big_10_football)"
   ]
  },
  {
   "cell_type": "code",
   "execution_count": 17,
   "metadata": {
    "ExecuteTime": {
     "end_time": "2017-10-20T19:44:04.865746Z",
     "start_time": "2017-10-20T19:44:04.858952Z"
    }
   },
   "outputs": [
    {
     "name": "stdout",
     "output_type": "stream",
     "text": [
      "Community 1\n",
      "OhioState, Wisconsin, Iowa, Michigan, Minnesota, PennState, Northwestern\n",
      "Community 2\n",
      "Purdue, MichiganState, Indiana, Illinois\n"
     ]
    }
   ],
   "source": [
    "for comm in set(comm_dict.values()):\n",
    "    print(\"Community %d\"%comm)\n",
    "    print(', '.join([node for node in comm_dict if comm_dict[node] == comm]))"
   ]
  },
  {
   "cell_type": "code",
   "execution_count": 18,
   "metadata": {
    "ExecuteTime": {
     "end_time": "2017-10-20T19:44:05.518290Z",
     "start_time": "2017-10-20T19:44:05.506842Z"
    }
   },
   "outputs": [
    {
     "name": "stdout",
     "output_type": "stream",
     "text": [
      "Calculating modularity for directed graph\n",
      "Modularity of such partition for karate is 0.112\n"
     ]
    }
   ],
   "source": [
    "print('Modularity of such partition for karate is %.3f' %\\\n",
    "      get_modularity(big_10_football, comm_dict))"
   ]
  }
 ],
 "metadata": {
  "kernelspec": {
   "display_name": "Python 2",
   "language": "python",
   "name": "python2"
  },
  "language_info": {
   "codemirror_mode": {
    "name": "ipython",
    "version": 2
   },
   "file_extension": ".py",
   "mimetype": "text/x-python",
   "name": "python",
   "nbconvert_exporter": "python",
   "pygments_lexer": "ipython2",
   "version": "2.7.14"
  },
  "toc": {
   "nav_menu": {},
   "number_sections": true,
   "sideBar": true,
   "skip_h1_title": false,
   "toc_cell": false,
   "toc_position": {
    "height": "836px",
    "left": "0px",
    "right": "1468px",
    "top": "113px",
    "width": "212px"
   },
   "toc_section_display": "block",
   "toc_window_display": true
  }
 },
 "nbformat": 4,
 "nbformat_minor": 2
}
