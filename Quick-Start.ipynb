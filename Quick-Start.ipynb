{
 "cells": [
  {
   "cell_type": "markdown",
   "metadata": {},
   "source": [
    "The following two examples use data in the both cited papers mentioned in the index page."
   ]
  },
  {
   "cell_type": "markdown",
   "metadata": {},
   "source": [
    "#### Undirected Network: Karate"
   ]
  },
  {
   "cell_type": "code",
   "execution_count": 1,
   "metadata": {
    "collapsed": true
   },
   "outputs": [],
   "source": [
    "import networkx as nx"
   ]
  },
  {
   "cell_type": "code",
   "execution_count": 2,
   "metadata": {
    "collapsed": true
   },
   "outputs": [],
   "source": [
    "karate = nx.Graph(nx.read_pajek(\"data/karate.net\"))"
   ]
  },
  {
   "cell_type": "code",
   "execution_count": 6,
   "metadata": {
    "collapsed": false
   },
   "outputs": [
    {
     "name": "stdout",
     "output_type": "stream",
     "text": [
      "Name: \n",
      "Type: Graph\n",
      "Number of nodes: 34\n",
      "Number of edges: 78\n",
      "Average degree:   4.5882\n"
     ]
    }
   ],
   "source": [
    "print(nx.info(karate))"
   ]
  },
  {
   "cell_type": "code",
   "execution_count": 7,
   "metadata": {
    "collapsed": true
   },
   "outputs": [],
   "source": [
    "from modularity_maximization import partition"
   ]
  },
  {
   "cell_type": "code",
   "execution_count": 8,
   "metadata": {
    "collapsed": true
   },
   "outputs": [],
   "source": [
    "comm_dict = partition(karate)"
   ]
  },
  {
   "cell_type": "code",
   "execution_count": 11,
   "metadata": {
    "collapsed": false
   },
   "outputs": [
    {
     "name": "stdout",
     "output_type": "stream",
     "text": [
      "Community 3\n",
      "5, 7, 6, 11, 17\n",
      "Community 4\n",
      "20, 22, 1, 3, 2, 4, 8, 10, 13, 12, 14, 18\n",
      "Community 5\n",
      "27, 21, 23, 9, 15, 16, 19, 31, 30, 34, 33\n",
      "Community 6\n",
      "24, 25, 26, 28, 29, 32\n"
     ]
    }
   ],
   "source": [
    "for comm in set(comm_dict.values()):\n",
    "    print(\"Community %d\"%comm)\n",
    "    print(', '.join([node for node in comm_dict if comm_dict[node] == comm]))"
   ]
  },
  {
   "cell_type": "code",
   "execution_count": 13,
   "metadata": {
    "collapsed": true
   },
   "outputs": [],
   "source": [
    "from modularity_maximization.utils import get_modularity"
   ]
  },
  {
   "cell_type": "code",
   "execution_count": 17,
   "metadata": {
    "collapsed": false
   },
   "outputs": [
    {
     "name": "stdout",
     "output_type": "stream",
     "text": [
      "Modularity of such partition for karate is 0.419\n"
     ]
    }
   ],
   "source": [
    "print('Modularity of such partition for karate is %.3f' % get_modularity(karate, comm_dict))"
   ]
  },
  {
   "cell_type": "markdown",
   "metadata": {},
   "source": [
    "#### Directed Network: Big 10 Football Season 2005"
   ]
  },
  {
   "cell_type": "code",
   "execution_count": 18,
   "metadata": {
    "collapsed": true
   },
   "outputs": [],
   "source": [
    "big_10_football = nx.read_gml(\"data/big_10_football_directed.gml\")"
   ]
  },
  {
   "cell_type": "code",
   "execution_count": 19,
   "metadata": {
    "collapsed": false
   },
   "outputs": [
    {
     "name": "stdout",
     "output_type": "stream",
     "text": [
      "Name: \n",
      "Type: DiGraph\n",
      "Number of nodes: 11\n",
      "Number of edges: 44\n",
      "Average in degree:   4.0000\n",
      "Average out degree:   4.0000\n"
     ]
    }
   ],
   "source": [
    "print(nx.info(big_10_football))"
   ]
  },
  {
   "cell_type": "code",
   "execution_count": 20,
   "metadata": {
    "collapsed": true
   },
   "outputs": [],
   "source": [
    "comm_dict = partition(big_10_football)"
   ]
  },
  {
   "cell_type": "code",
   "execution_count": 21,
   "metadata": {
    "collapsed": false
   },
   "outputs": [
    {
     "name": "stdout",
     "output_type": "stream",
     "text": [
      "Community 1\n",
      "OhioState, Northwestern, Wisconsin, Iowa, PennState, Michigan, Minnesota\n",
      "Community 2\n",
      "Purdue, Illinois, MichiganState, Indiana\n"
     ]
    }
   ],
   "source": [
    "for comm in set(comm_dict.values()):\n",
    "    print(\"Community %d\"%comm)\n",
    "    print(', '.join([node for node in comm_dict if comm_dict[node] == comm]))"
   ]
  },
  {
   "cell_type": "code",
   "execution_count": 22,
   "metadata": {
    "collapsed": false
   },
   "outputs": [
    {
     "name": "stdout",
     "output_type": "stream",
     "text": [
      "Modularity of such partition for karate is 0.112\n"
     ]
    }
   ],
   "source": [
    "print('Modularity of such partition for karate is %.3f' %\\\n",
    "      get_modularity(big_10_football, comm_dict))"
   ]
  }
 ],
 "metadata": {
  "kernelspec": {
   "display_name": "Python 2",
   "language": "python",
   "name": "python2"
  },
  "language_info": {
   "codemirror_mode": {
    "name": "ipython",
    "version": 2
   },
   "file_extension": ".py",
   "mimetype": "text/x-python",
   "name": "python",
   "nbconvert_exporter": "python",
   "pygments_lexer": "ipython2",
   "version": "2.7.13"
  }
 },
 "nbformat": 4,
 "nbformat_minor": 2
}
